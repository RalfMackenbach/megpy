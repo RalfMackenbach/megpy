{
 "cells": [
  {
   "cell_type": "code",
   "execution_count": null,
   "metadata": {},
   "outputs": [],
   "source": [
    "import megpy\n",
    "\n",
    "f_path = <FILE_PATH>\n",
    "rho_fs = <rho>\n",
    "\n",
    "n_x = 9\n",
    "n_theta = 7200\n",
    "n_harmonics = 12 # for mxh, or 32 for miller_general\n",
    "param = 'turnbull'\n",
    "opt_bpol = False\n",
    "opt_deriv = False\n",
    "\n",
    "eq = megpy.Equilibrium()\n",
    "eq.read_geqdsk(f_path=f_path)\n",
    "eq.add_derived()#refine=6)\n",
    "locgeo = megpy.LocalEquilibrium(param,eq,rho_fs,\n",
    "                                analytic_shape=True,\n",
    "                                n_x=n_x,\n",
    "                                n_harmonics=n_harmonics,\n",
    "                                n_theta=n_theta,\n",
    "                                opt_bpol=opt_bpol,\n",
    "                                opt_deriv=opt_deriv,\n",
    "                                diag_lsq=1)\n",
    "\n",
    "print(locgeo.shape)\n",
    "print(locgeo.shape_deriv)"
   ]
  }
 ],
 "metadata": {
  "language_info": {
   "name": "python"
  },
  "orig_nbformat": 4
 },
 "nbformat": 4,
 "nbformat_minor": 2
}
