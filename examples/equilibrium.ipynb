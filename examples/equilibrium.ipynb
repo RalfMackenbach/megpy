{
 "cells": [
  {
   "cell_type": "code",
   "execution_count": 1,
   "metadata": {},
   "outputs": [
    {
     "ename": "ModuleNotFoundError",
     "evalue": "No module named 'megpy'",
     "output_type": "error",
     "traceback": [
      "\u001b[0;31m---------------------------------------------------------------------------\u001b[0m",
      "\u001b[0;31mModuleNotFoundError\u001b[0m                       Traceback (most recent call last)",
      "\u001b[1;32m/Users/garudsnoep/Documents/PhD/Code/megpy_pkg/examples/equilibrium.ipynb Cell 1\u001b[0m in \u001b[0;36m1\n\u001b[0;32m----> <a href='vscode-notebook-cell:/Users/garudsnoep/Documents/PhD/Code/megpy_pkg/examples/equilibrium.ipynb#W0sZmlsZQ%3D%3D?line=0'>1</a>\u001b[0m \u001b[39mimport\u001b[39;00m \u001b[39mmegpy\u001b[39;00m\n\u001b[1;32m      <a href='vscode-notebook-cell:/Users/garudsnoep/Documents/PhD/Code/megpy_pkg/examples/equilibrium.ipynb#W0sZmlsZQ%3D%3D?line=1'>2</a>\u001b[0m \u001b[39mimport\u001b[39;00m \u001b[39mos\u001b[39;00m\n\u001b[1;32m      <a href='vscode-notebook-cell:/Users/garudsnoep/Documents/PhD/Code/megpy_pkg/examples/equilibrium.ipynb#W0sZmlsZQ%3D%3D?line=3'>4</a>\u001b[0m overwrite \u001b[39m=\u001b[39m \u001b[39mFalse\u001b[39;00m\n",
      "\u001b[0;31mModuleNotFoundError\u001b[0m: No module named 'megpy'"
     ]
    }
   ],
   "source": [
    "import os\n",
    "import megpy\n",
    "\n",
    "overwrite = False\n",
    "\n",
    "# path definitions\n",
    "output_path = <FILE_PATH>\n",
    "fname = <FILE_NAME>\n",
    "\n",
    "# check if Equilibrium already exists\n",
    "if os.path.isfile(output_path+fname) and not overwrite:\n",
    "    print('{} already exists, skip!'.format(output_path+fname))\n",
    "else:\n",
    "    if os.path.isfile(output_path+fname) and overwrite:\n",
    "        print('{} already exists, but forcing overwrite!'.format(output_path+fname))\n",
    "    else:\n",
    "        print('Creating {} ...'.format(output_path+fname))\n",
    "    # create Equilibrium(), read g-file\n",
    "    eq = megpy.Equilibrium()\n",
    "    eq.read_geqdsk(f_path=output_path+fname)\n",
    "\n",
    "    # add magnetic geometry tracing\n",
    "    eq.add_derived(incl_fluxsurfaces=True,analytic_shape=True,incl_B=False)\n",
    "\n",
    "    # check if output path dir exists, if not create\n",
    "    if not os.path.isdir(output_path):\n",
    "        os.mkdir(output_path)\n",
    "\n",
    "    # save the Equilibrium() to disk for later convenience\n",
    "    eq.write_json(path=output_path,fname=fname)"
   ]
  }
 ],
 "metadata": {
  "kernelspec": {
   "display_name": "Python 3",
   "language": "python",
   "name": "python3"
  },
  "language_info": {
   "codemirror_mode": {
    "name": "ipython",
    "version": 3
   },
   "file_extension": ".py",
   "mimetype": "text/x-python",
   "name": "python",
   "nbconvert_exporter": "python",
   "pygments_lexer": "ipython3",
   "version": "3.10.7"
  },
  "orig_nbformat": 4
 },
 "nbformat": 4,
 "nbformat_minor": 2
}
